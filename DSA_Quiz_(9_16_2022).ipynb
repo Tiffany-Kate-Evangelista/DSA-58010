{
  "nbformat": 4,
  "nbformat_minor": 0,
  "metadata": {
    "colab": {
      "provenance": [],
      "collapsed_sections": [],
      "authorship_tag": "ABX9TyN5b6mrQFScWchGcuiF2NuL",
      "include_colab_link": true
    },
    "kernelspec": {
      "name": "python3",
      "display_name": "Python 3"
    },
    "language_info": {
      "name": "python"
    }
  },
  "cells": [
    {
      "cell_type": "markdown",
      "metadata": {
        "id": "view-in-github",
        "colab_type": "text"
      },
      "source": [
        "<a href=\"https://colab.research.google.com/github/Tiffany-Kate-Evangelista/DSA-58010/blob/main/DSA_Quiz_(9_16_2022).ipynb\" target=\"_parent\"><img src=\"https://colab.research.google.com/assets/colab-badge.svg\" alt=\"Open In Colab\"/></a>"
      ]
    },
    {
      "cell_type": "markdown",
      "source": [
        "ARRAY"
      ],
      "metadata": {
        "id": "4yciNCAx1U1K"
      }
    },
    {
      "cell_type": "code",
      "execution_count": 11,
      "metadata": {
        "colab": {
          "base_uri": "https://localhost:8080/"
        },
        "id": "iLlNyPzQ1OPd",
        "outputId": "51f1e6da-2fb6-48de-feba-6682db66c3df"
      },
      "outputs": [
        {
          "output_type": "stream",
          "name": "stdout",
          "text": [
            "Full Name:  ('Tiffany ', 'Kate ', 'Evangelista')\n"
          ]
        }
      ],
      "source": [
        "fullname = 'Tiffany ', 'Kate ', 'Evangelista'\n",
        "print(\"Full Name: \", fullname)"
      ]
    },
    {
      "cell_type": "code",
      "source": [
        "EnterName = input(str(\"Type name: \"))\n",
        "\n",
        "ListN= list(EnterName)\n",
        "ListN.reverse()\n",
        "\n",
        "for x in ListN:\n",
        "    print(x, \" \", end='')"
      ],
      "metadata": {
        "colab": {
          "base_uri": "https://localhost:8080/"
        },
        "id": "BwRnWHQKV6Ot",
        "outputId": "2913ea3c-42bf-49ca-e570-26f262a89f9a"
      },
      "execution_count": 13,
      "outputs": [
        {
          "output_type": "stream",
          "name": "stdout",
          "text": [
            "Type name: Tiffany Kate Evangelista\n",
            "a  t  s  i  l  e  g  n  a  v  E     e  t  a  K     y  n  a  f  f  i  T  "
          ]
        }
      ]
    }
  ]
}