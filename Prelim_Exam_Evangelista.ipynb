{
  "nbformat": 4,
  "nbformat_minor": 0,
  "metadata": {
    "colab": {
      "provenance": [],
      "collapsed_sections": [],
      "authorship_tag": "ABX9TyP/kjggWpRDj3OOQgygloMl",
      "include_colab_link": true
    },
    "kernelspec": {
      "name": "python3",
      "display_name": "Python 3"
    },
    "language_info": {
      "name": "python"
    }
  },
  "cells": [
    {
      "cell_type": "markdown",
      "metadata": {
        "id": "view-in-github",
        "colab_type": "text"
      },
      "source": [
        "<a href=\"https://colab.research.google.com/github/Tiffany-Kate-Evangelista/DSA-58010/blob/main/Prelim_Exam_Evangelista.ipynb\" target=\"_parent\"><img src=\"https://colab.research.google.com/assets/colab-badge.svg\" alt=\"Open In Colab\"/></a>"
      ]
    },
    {
      "cell_type": "markdown",
      "source": [
        "Choose Array data structure\n",
        "\n",
        "Create a Python program that creates the array list below and counts the number of even numbers A=[1,2,3,4,5,6,7,8,9,10]\n",
        "\n",
        "Save your program as \"Prelim Exam\" to your GitHub\n",
        "\n",
        "Send the link address of GitHub to the Prelim Exam folder (Blackboard submission)"
      ],
      "metadata": {
        "id": "WCAwGLvrTvHp"
      }
    },
    {
      "cell_type": "code",
      "source": [
        "number=[1,2,3,4,5,6,7,8]\n",
        "\n",
        "number.append(4)\n",
        "number.pop(0)\n",
        "number.pop(2)\n",
        "number.append(9)\n",
        "\n",
        "print(\"Composite numbers less than 10 but greater than 1: \", number)\n",
        "print(\"Composite numbers: \", len(number))"
      ],
      "metadata": {
        "colab": {
          "base_uri": "https://localhost:8080/"
        },
        "id": "OTw5i2NkS7fL",
        "outputId": "d62aa6b3-3ac2-4aee-ac70-3f5561cf6ea6"
      },
      "execution_count": 14,
      "outputs": [
        {
          "output_type": "stream",
          "name": "stdout",
          "text": [
            "Composite numbers less than 10 but greater than 1:  [2, 3, 5, 6, 7, 8, 4, 9]\n",
            "Composite numbers:  8\n"
          ]
        }
      ]
    }
  ]
}