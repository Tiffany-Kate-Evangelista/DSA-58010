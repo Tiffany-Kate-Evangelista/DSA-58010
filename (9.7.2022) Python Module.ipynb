{
  "nbformat": 4,
  "nbformat_minor": 0,
  "metadata": {
    "colab": {
      "provenance": [],
      "authorship_tag": "ABX9TyNBywYNBgJFPqrqvNvPBpDF",
      "include_colab_link": true
    },
    "kernelspec": {
      "name": "python3",
      "display_name": "Python 3"
    },
    "language_info": {
      "name": "python"
    }
  },
  "cells": [
    {
      "cell_type": "markdown",
      "metadata": {
        "id": "view-in-github",
        "colab_type": "text"
      },
      "source": [
        "<a href=\"https://colab.research.google.com/github/Tiffany-Kate-Evangelista/DSA-58010/blob/main/Python_Module_(9_7_2022).ipynb\" target=\"_parent\"><img src=\"https://colab.research.google.com/assets/colab-badge.svg\" alt=\"Open In Colab\"/></a>"
      ]
    },
    {
      "cell_type": "markdown",
      "source": [
        "Example 1"
      ],
      "metadata": {
        "id": "fG9gtj7L50Rx"
      }
    },
    {
      "cell_type": "code",
      "execution_count": 3,
      "metadata": {
        "colab": {
          "base_uri": "https://localhost:8080/"
        },
        "id": "Ivf3YOgY5xg0",
        "outputId": "570be033-2b22-442a-a18d-15aeb670306b"
      },
      "outputs": [
        {
          "output_type": "stream",
          "name": "stdout",
          "text": [
            "i\n",
            "f\n"
          ]
        }
      ],
      "source": [
        "import array\n",
        "\n",
        "array.typecodes #to get all typecodes\n",
        "\n",
        "a = array.array('i', [1, 2, 3, 4, 5, 6]) #initializing array \"a\"\n",
        "b = array.array('f', [1.5, 2.5, 3.5, 4.5, 5.5, 6.5]) #initializing array \"b\"\n",
        "\n",
        "print (a.typecode) #getting the typecode of \"a\"\n",
        "print (b.typecode) #getting the typecode of \"b\""
      ]
    },
    {
      "cell_type": "markdown",
      "source": [
        "Example 2 - Create and convert the elements of array A to float/decimal number\n"
      ],
      "metadata": {
        "id": "cVo0ZpjG81I9"
      }
    },
    {
      "cell_type": "code",
      "source": [
        "A = array.array('f',[1,2,3,4,5,6,7,8,9,10]) #initializing elements of array \"A\"\n",
        "print(A)"
      ],
      "metadata": {
        "colab": {
          "base_uri": "https://localhost:8080/"
        },
        "id": "26FaBJPj81sj",
        "outputId": "1f8ebd8c-724c-4b68-f92c-43176b7f08c8"
      },
      "execution_count": 6,
      "outputs": [
        {
          "output_type": "stream",
          "name": "stdout",
          "text": [
            "array('f', [1.0, 2.0, 3.0, 4.0, 5.0, 6.0, 7.0, 8.0, 9.0, 10.0])\n"
          ]
        }
      ]
    },
    {
      "cell_type": "markdown",
      "source": [
        "Example 3"
      ],
      "metadata": {
        "id": "sBLXO1BX-81U"
      }
    },
    {
      "cell_type": "code",
      "source": [
        "from array import array #importing array from array module\n",
        "\n",
        "a = array('i', [4,5,6,7]) #initializing array\n",
        "a.insert (1,2) #inserting element: 2 at index: 1\n",
        "print (a) #printing array a\n",
        "\n"
      ],
      "metadata": {
        "colab": {
          "base_uri": "https://localhost:8080/"
        },
        "id": "RObeYjOA-9NL",
        "outputId": "e2c31ce5-6f3d-45d2-d279-a0d9eb58daec"
      },
      "execution_count": 9,
      "outputs": [
        {
          "output_type": "stream",
          "name": "stdout",
          "text": [
            "array('i', [4, 2, 5, 6, 7])\n"
          ]
        }
      ]
    },
    {
      "cell_type": "code",
      "source": [
        "from array import array #importing array from array module\n",
        "\n",
        "a = array('i', [4,2,5,6,7]) #initializing array\n",
        "a.insert (-1,0) \n",
        "print (a) #printing array a"
      ],
      "metadata": {
        "colab": {
          "base_uri": "https://localhost:8080/"
        },
        "id": "Nf-AgCmb_8mk",
        "outputId": "5807f703-9dd1-43c7-f2c2-7c2009488d93"
      },
      "execution_count": 11,
      "outputs": [
        {
          "output_type": "stream",
          "name": "stdout",
          "text": [
            "array('i', [4, 2, 5, 6, 0, 7])\n"
          ]
        }
      ]
    },
    {
      "cell_type": "code",
      "source": [
        "from array import array #importing array from array module\n",
        "\n",
        "a = array('i', [4,2,5,6,7]) #initializing array\n",
        "a.insert (10, -1) \n",
        "print (a) #printing array a"
      ],
      "metadata": {
        "colab": {
          "base_uri": "https://localhost:8080/"
        },
        "id": "IMCHey5EAIj9",
        "outputId": "d208b99a-1341-4e26-a14f-1e6e94fb79ab"
      },
      "execution_count": 12,
      "outputs": [
        {
          "output_type": "stream",
          "name": "stdout",
          "text": [
            "array('i', [4, 2, 5, 6, 7, -1])\n"
          ]
        }
      ]
    },
    {
      "cell_type": "markdown",
      "source": [
        "Linked List"
      ],
      "metadata": {
        "id": "q9FBRpcwF61t"
      }
    },
    {
      "cell_type": "markdown",
      "source": [
        "Example 1"
      ],
      "metadata": {
        "id": "tNY5uDQBF83M"
      }
    },
    {
      "cell_type": "code",
      "source": [
        "#Node class\n",
        "\n",
        "class Node:\n",
        "  def __init__(self, data):  #function to initialize the node project\n",
        "    self.data = data #Assign data\n",
        "    self.next = None #initialize next as null\n",
        "    \n",
        "#LinkedList class\n",
        "\n",
        "class LinkedList:\n",
        "  def __init__(self):  #function to initialize the Linked\n",
        "    self.head = None  #list object"
      ],
      "metadata": {
        "id": "FcrZBzjGF_j1"
      },
      "execution_count": 14,
      "outputs": []
    },
    {
      "cell_type": "code",
      "source": [
        "#from Mam Sayo\n",
        "#function that creates node object\n",
        "\n",
        "class Node:\n",
        "  def __init__(self,data):\n",
        "    self.data = data    # assign data\n",
        "    self.next = None    # initialize as null\n",
        "\n",
        "#function that creates Linked-list object\n",
        "\n",
        "class LinkedList:\n",
        "  def __init(self):\n",
        "    self.head = None   #initialize head as null\n"
      ],
      "metadata": {
        "id": "sRSMYfdeHoFr"
      },
      "execution_count": 19,
      "outputs": []
    },
    {
      "cell_type": "code",
      "source": [
        "#function that creates node object\n",
        "\n",
        "class Node:\n",
        "  def __init__(self,data):\n",
        "    self.data = data    # assign data\n",
        "    self.next = None    # initialize as null\n",
        "\n",
        "#function that creates Linked-list object\n",
        "\n",
        "class LinkedList:\n",
        "  def __init(self):\n",
        "    self.head = None   #initialize head as null\n",
        "\n",
        "  def printList(self):\n",
        "    temp = self.head\n",
        "    while(temp!=None):\n",
        "      print(temp.data)\n",
        "      temp = temp.next\n",
        "\n",
        "list = LinkedList()    #empty list\n",
        "list.head = Node(1)\n",
        "second = Node(2)\n",
        "third = Node(3)\n",
        "fourth = Node(4)\n",
        "\n",
        "list.head.next=second\n",
        "second.next = third\n",
        "third.next = fourth\n",
        "\n",
        "list.printList()\n"
      ],
      "metadata": {
        "colab": {
          "base_uri": "https://localhost:8080/"
        },
        "id": "IndrLO5-NZ_l",
        "outputId": "6f5912ac-8243-42d5-d21f-4adfdcb61b6f"
      },
      "execution_count": 20,
      "outputs": [
        {
          "output_type": "stream",
          "name": "stdout",
          "text": [
            "1\n",
            "2\n",
            "3\n",
            "4\n"
          ]
        }
      ]
    }
  ]
}
