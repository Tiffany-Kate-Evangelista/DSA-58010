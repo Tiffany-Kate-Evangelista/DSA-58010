{
  "nbformat": 4,
  "nbformat_minor": 0,
  "metadata": {
    "colab": {
      "provenance": [],
      "collapsed_sections": [],
      "authorship_tag": "ABX9TyNvvVCfdMJcgVbtIb2FCl1h",
      "include_colab_link": true
    },
    "kernelspec": {
      "name": "python3",
      "display_name": "Python 3"
    },
    "language_info": {
      "name": "python"
    }
  },
  "cells": [
    {
      "cell_type": "markdown",
      "metadata": {
        "id": "view-in-github",
        "colab_type": "text"
      },
      "source": [
        "<a href=\"https://colab.research.google.com/github/Tiffany-Kate-Evangelista/DSA-58010/blob/main/Activity%203%20(9.30.2022)%20Evangelista.ipynb\" target=\"_parent\"><img src=\"https://colab.research.google.com/assets/colab-badge.svg\" alt=\"Open In Colab\"/></a>"
      ]
    },
    {
      "cell_type": "markdown",
      "source": [
        "**Original Code**"
      ],
      "metadata": {
        "id": "TKgsNbvdSAf0"
      }
    },
    {
      "cell_type": "code",
      "execution_count": 3,
      "metadata": {
        "colab": {
          "base_uri": "https://localhost:8080/"
        },
        "id": "TPcxRsbfD3Zv",
        "outputId": "23f05038-6aeb-4770-8a1c-421b8bf21a6d"
      },
      "outputs": [
        {
          "output_type": "stream",
          "name": "stdout",
          "text": [
            "Pushed Element: 1\n",
            "Pushed Element: 2\n",
            "Pushed Element: 3\n",
            "Pushed Element: 4\n",
            "Pushed Element: 5\n",
            "The elements in the stack are: ['1', '2', '3', '4', '5']\n"
          ]
        }
      ],
      "source": [
        "# Stack implementation in python\n",
        "\n",
        "# Creating a stack\n",
        "def create_stack():\n",
        "    stack = []\n",
        "    return stack\n",
        "\n",
        "# Creating an empty stack\n",
        "def is_empty(stack):\n",
        "    return len(stack) == 0\n",
        "\n",
        "# Adding items into the stack\n",
        "def push(stack, item):\n",
        "    stack.append(item)\n",
        "    print(\"Pushed Element: \" + item)\n",
        "\n",
        "# Removing an element from the stack\n",
        "def pop(stack):\n",
        "    if (is_empty(stack)):\n",
        "        return \"The stack is empty\"\n",
        "    return stack.pop()\n",
        "\n",
        "\n",
        "stack = create_stack()\n",
        "push(stack, str(1))\n",
        "push(stack, str(2))\n",
        "push(stack, str(3))\n",
        "push(stack, str(4))\n",
        "push(stack, str(5))\n",
        "\n",
        "\n",
        "print(\"The elements in the stack are: \"+ str(stack))"
      ]
    },
    {
      "cell_type": "markdown",
      "source": [
        "Questions:"
      ],
      "metadata": {
        "id": "7hewQBkqTX8e"
      }
    },
    {
      "cell_type": "markdown",
      "source": [
        "1) Upon typing the codes, what is the name of the abstract data type? How is it implemented?\n",
        "\n",
        "\n",
        "\n",
        "*   The given Python program's abstract data type is called a stack. The stack, a linear data structure that adheres to the Last In First Out rule, is used to implement it (LIFO). It means that the last item to be put to the stack should be removed first. The list data structure that comes with Python can be used to build stacks. Pop() removes entries in LIFO order, but Append() adds elements to the top of the stack in place of Push().\n",
        "\n"
      ],
      "metadata": {
        "id": "PNqUb--CSd0A"
      }
    },
    {
      "cell_type": "markdown",
      "source": [
        "2) What is the output of the codes?\n",
        "\n",
        "Pushed Element: 1\n",
        "\n",
        "Pushed Element: 2\n",
        "\n",
        "Pushed Element: 3\n",
        "\n",
        "Pushed Element: 4\n",
        "\n",
        "Pushed Element: 5\n",
        "\n",
        "The elements in the stack are: ['1', '2', '3', '4', '5']\n",
        "\n"
      ],
      "metadata": {
        "id": "xGhsvV-RXE8A"
      }
    },
    {
      "cell_type": "markdown",
      "source": [
        "3) If you want to type additional codes, what will be the statement to pop 3 elements from the top of the stack?"
      ],
      "metadata": {
        "id": "F8D8_22JZFtO"
      }
    },
    {
      "cell_type": "markdown",
      "source": [
        "Question 3 code"
      ],
      "metadata": {
        "id": "TNGceoFk7DHc"
      }
    },
    {
      "cell_type": "code",
      "source": [
        "# Stack implementation in python\n",
        "\n",
        "# Creating a stack\n",
        "def create_stack():\n",
        "    stack = []\n",
        "    return stack\n",
        "\n",
        "# Creating an empty stack\n",
        "def is_empty(stack):\n",
        "    return len(stack) == 0\n",
        "\n",
        "# Adding items into the stack\n",
        "def push(stack, item):\n",
        "    stack.append(item)\n",
        "    print(\"Pushed Element: \" + item)\n",
        "\n",
        "# Removing an element from the stack\n",
        "def pop(stack):\n",
        "    if (is_empty(stack)):\n",
        "        return \"The stack is empty\"\n",
        "    return stack.pop()\n",
        "\n",
        "stack = create_stack()\n",
        "push(stack, str(1))\n",
        "push(stack, str(2))\n",
        "push(stack, str(3))\n",
        "push(stack, str(4))\n",
        "push(stack, str(5))\n",
        "\n",
        "print(\"\\n The elements in the stack are: \"+ str(stack))\n",
        "\n",
        "# Popping three elements from the top\n",
        "stack.pop(2)      \n",
        "stack.pop(1)     \n",
        "stack.pop(0)    \n",
        "\n",
        "print(\"\\n After popping 3 elements, the elements left in the stack are: \", stack)"
      ],
      "metadata": {
        "colab": {
          "base_uri": "https://localhost:8080/"
        },
        "id": "4zMXUizX7piD",
        "outputId": "09bba58b-6978-4cb1-a6e7-ef226c0f054b"
      },
      "execution_count": 7,
      "outputs": [
        {
          "output_type": "stream",
          "name": "stdout",
          "text": [
            "Pushed Element: 1\n",
            "Pushed Element: 2\n",
            "Pushed Element: 3\n",
            "Pushed Element: 4\n",
            "Pushed Element: 5\n",
            "\n",
            " The elements in the stack are: ['1', '2', '3', '4', '5']\n",
            "\n",
            " After popping 3 elements, the elements left in the stack are:  ['4', '5']\n"
          ]
        }
      ]
    },
    {
      "cell_type": "markdown",
      "source": [
        "4) If you will revise the codes, what will be the statement to determine the length of the stack? (Note: You may add additional methods to count the no. of elements in the stack)"
      ],
      "metadata": {
        "id": "TFXWKg1I_XXd"
      }
    },
    {
      "cell_type": "markdown",
      "source": [
        "Question 4 code\n",
        "\n",
        "- for some reason po mam ayaw na naman po gumana ng code."
      ],
      "metadata": {
        "id": "Shb5y3HR__Ll"
      }
    },
    {
      "cell_type": "code",
      "source": [
        "# Stack implementation in python\n",
        "\n",
        "# Creating a stack\n",
        "def create_stack():\n",
        "    stack = []\n",
        "    return stack\n",
        "\n",
        "# Creating an empty stack\n",
        "def is_empty(stack):\n",
        "    return len(stack) == 0\n",
        "\n",
        "# Adding items into the stack\n",
        "def push(stack, item):\n",
        "    stack.append(item)\n",
        "    print(\"Pushed Element: \" + item)\n",
        "\n",
        "# Removing an element from the stack\n",
        "def pop(stack):\n",
        "    if (is_empty(stack)):\n",
        "        return \"The stack is empty\"\n",
        "    return stack.pop()\n",
        "\n",
        "stack = create_stack()\n",
        "push(stack, str(1))\n",
        "push(stack, str(2))\n",
        "push(stack, str(3))\n",
        "push(stack, str(4))\n",
        "push(stack, str(5))\n",
        "\n",
        "print(\"The elements in the stack are: \"+ str(stack))\n",
        "\n",
        "# Counting the number of elements in the stack\n",
        "str = str(stack)\n",
        "\n",
        "def stack(str):\n",
        "  stack = set(\"12345\")\n",
        "  number = 0 \n",
        "          \n",
        "  for elements in str:\n",
        "    if elements in stack:\n",
        "      number = number + 1\n",
        "      \n",
        "  print(\"The length of the stack is: \", count)\n",
        "\n",
        "stack(str)"
      ],
      "metadata": {
        "colab": {
          "base_uri": "https://localhost:8080/",
          "height": 244
        },
        "id": "Yl9nf8a6Dw69",
        "outputId": "4f8bd044-45e5-4a07-bac2-d3aa64ee7cc1"
      },
      "execution_count": 18,
      "outputs": [
        {
          "output_type": "error",
          "ename": "TypeError",
          "evalue": "ignored",
          "traceback": [
            "\u001b[0;31m---------------------------------------------------------------------------\u001b[0m",
            "\u001b[0;31mTypeError\u001b[0m                                 Traceback (most recent call last)",
            "\u001b[0;32m<ipython-input-18-0e04aaadbd09>\u001b[0m in \u001b[0;36m<module>\u001b[0;34m\u001b[0m\n\u001b[1;32m     22\u001b[0m \u001b[0;34m\u001b[0m\u001b[0m\n\u001b[1;32m     23\u001b[0m \u001b[0mstack\u001b[0m \u001b[0;34m=\u001b[0m \u001b[0mcreate_stack\u001b[0m\u001b[0;34m(\u001b[0m\u001b[0;34m)\u001b[0m\u001b[0;34m\u001b[0m\u001b[0;34m\u001b[0m\u001b[0m\n\u001b[0;32m---> 24\u001b[0;31m \u001b[0mpush\u001b[0m\u001b[0;34m(\u001b[0m\u001b[0mstack\u001b[0m\u001b[0;34m,\u001b[0m \u001b[0mstr\u001b[0m\u001b[0;34m(\u001b[0m\u001b[0;36m1\u001b[0m\u001b[0;34m)\u001b[0m\u001b[0;34m)\u001b[0m\u001b[0;34m\u001b[0m\u001b[0;34m\u001b[0m\u001b[0m\n\u001b[0m\u001b[1;32m     25\u001b[0m \u001b[0mpush\u001b[0m\u001b[0;34m(\u001b[0m\u001b[0mstack\u001b[0m\u001b[0;34m,\u001b[0m \u001b[0mstr\u001b[0m\u001b[0;34m(\u001b[0m\u001b[0;36m2\u001b[0m\u001b[0;34m)\u001b[0m\u001b[0;34m)\u001b[0m\u001b[0;34m\u001b[0m\u001b[0;34m\u001b[0m\u001b[0m\n\u001b[1;32m     26\u001b[0m \u001b[0mpush\u001b[0m\u001b[0;34m(\u001b[0m\u001b[0mstack\u001b[0m\u001b[0;34m,\u001b[0m \u001b[0mstr\u001b[0m\u001b[0;34m(\u001b[0m\u001b[0;36m3\u001b[0m\u001b[0;34m)\u001b[0m\u001b[0;34m)\u001b[0m\u001b[0;34m\u001b[0m\u001b[0;34m\u001b[0m\u001b[0m\n",
            "\u001b[0;31mTypeError\u001b[0m: 'str' object is not callable"
          ]
        }
      ]
    }
  ]
}