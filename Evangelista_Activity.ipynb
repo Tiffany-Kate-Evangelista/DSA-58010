{
  "nbformat": 4,
  "nbformat_minor": 0,
  "metadata": {
    "colab": {
      "provenance": [],
      "authorship_tag": "ABX9TyP/vTgzcHKq/9IRpbWym6E0",
      "include_colab_link": true
    },
    "kernelspec": {
      "name": "python3",
      "display_name": "Python 3"
    },
    "language_info": {
      "name": "python"
    }
  },
  "cells": [
    {
      "cell_type": "markdown",
      "metadata": {
        "id": "view-in-github",
        "colab_type": "text"
      },
      "source": [
        "<a href=\"https://colab.research.google.com/github/Tiffany-Kate-Evangelista/DSA-58010/blob/main/Evangelista_Activity.ipynb\" target=\"_parent\"><img src=\"https://colab.research.google.com/assets/colab-badge.svg\" alt=\"Open In Colab\"/></a>"
      ]
    },
    {
      "cell_type": "markdown",
      "source": [
        "Write a Python program to create an array of 10 integers and display the array items. Access individual elements through indexes and compute for the sum."
      ],
      "metadata": {
        "id": "lcSkyH5W4OS_"
      }
    },
    {
      "cell_type": "code",
      "execution_count": 3,
      "metadata": {
        "id": "r57HNqHe52oX",
        "colab": {
          "base_uri": "https://localhost:8080/"
        },
        "outputId": "7250a9b1-1b40-4739-a9b7-a1eaab45af59"
      },
      "outputs": [
        {
          "output_type": "stream",
          "name": "stdout",
          "text": [
            "The 10 integers are  [1, 2, 3, 4, 5, 6, 7, 8, 9, 10]\n",
            "The sum of all the 10 integers above is: 55\n"
          ]
        }
      ],
      "source": [
        "Integers = [1, 2, 3, 4, 5, 6, 7, 8, 9, 10]\n",
        "Sum = 0 \n",
        "\n",
        "for s in Integers: \n",
        "  Sum += s  \n",
        "  \n",
        "print(\"The 10 integers are: \", Integers) \n",
        "print(\"The sum of all the 10 integers above is:\" ,Sum)"
      ]
    },
    {
      "cell_type": "markdown",
      "source": [
        "Write a Python program to append a new item to the end of the array. Original array: numbers = [1, 2, 3, 4, 5, 6, 7, 8, 9, 10]"
      ],
      "metadata": {
        "id": "h37WDEhf4Vqa"
      }
    },
    {
      "cell_type": "code",
      "source": [
        "\n",
        "items = [1, 2, 3, 4, 5, 6, 7, 8, 9, 10]\n",
        "items.append(58010)\n",
        "print(items)"
      ],
      "metadata": {
        "colab": {
          "base_uri": "https://localhost:8080/"
        },
        "id": "PGb-PPvT4XNq",
        "outputId": "3b5e8e37-e81f-4de2-a65c-719214631256"
      },
      "execution_count": 2,
      "outputs": [
        {
          "output_type": "stream",
          "name": "stdout",
          "text": [
            "[1, 2, 3, 4, 5, 6, 7, 8, 9, 10, 58010]\n"
          ]
        }
      ]
    },
    {
      "cell_type": "markdown",
      "source": [
        "Write a Python program to insert a new item before the second element in an existing array. Original array: numbers = [1, 2, 3, 4, 5, 6, 7, 8, 9, 10]"
      ],
      "metadata": {
        "id": "mn4VLQZc4aV6"
      }
    },
    {
      "cell_type": "code",
      "source": [
        "items = [1, 2, 3, 4, 5, 6, 7, 8, 9, 10]\n",
        "items.insert(1, 1.5)\n",
        "print(items)"
      ],
      "metadata": {
        "id": "FRF1cplp4bl7"
      },
      "execution_count": null,
      "outputs": []
    },
    {
      "cell_type": "markdown",
      "source": [
        "Write a Python program to reverse the order of the items in the array. Original array: numbers = [5, 4, 3, 2, 1]"
      ],
      "metadata": {
        "id": "GKdZeMKH4c9x"
      }
    },
    {
      "cell_type": "code",
      "source": [
        "items = [5, 4, 3, 2, 1]\n",
        "items.reverse()\n",
        "print(items)"
      ],
      "metadata": {
        "id": "tii3mvhS4ePi"
      },
      "execution_count": null,
      "outputs": []
    },
    {
      "cell_type": "markdown",
      "source": [
        "Write a Python program to get the length of the array. Original array: numbers = [5, 4, 3, 2, 1]"
      ],
      "metadata": {
        "id": "K2e0nrG94gkB"
      }
    },
    {
      "cell_type": "code",
      "source": [
        "array = [5, 4, 3, 2, 1]\n",
        "L = len(array)\n",
        "print(L)"
      ],
      "metadata": {
        "id": "IfLuknrE4iTB"
      },
      "execution_count": null,
      "outputs": []
    }
  ]
}