{
  "nbformat": 4,
  "nbformat_minor": 0,
  "metadata": {
    "colab": {
      "name": "Evangelista_Practice Lab Exam.ipynb",
      "provenance": [],
      "authorship_tag": "ABX9TyOempFqnb6vRghQ6sM/vNn1",
      "include_colab_link": true
    },
    "kernelspec": {
      "name": "python3",
      "display_name": "Python 3"
    },
    "language_info": {
      "name": "python"
    }
  },
  "cells": [
    {
      "cell_type": "markdown",
      "metadata": {
        "id": "view-in-github",
        "colab_type": "text"
      },
      "source": [
        "<a href=\"https://colab.research.google.com/github/Tiffany-Kate-Evangelista/DSA-58010/blob/main/Evangelista_Practice_Lab_Exam.ipynb\" target=\"_parent\"><img src=\"https://colab.research.google.com/assets/colab-badge.svg\" alt=\"Open In Colab\"/></a>"
      ]
    },
    {
      "cell_type": "markdown",
      "source": [
        "1) Design an algorithm and the corresponding flowchart (Note: You may use LucidChart or any application) for adding the test scores as given below if the number is even: 26, 49, 98, 87, 62, 75\n",
        "\n",
        "2) Translate the algorithm to a Python program (using Google Colab)\n",
        "\n",
        "3) Save your source codes to GitHub\n",
        "\n",
        "4) Copy the link of your GitHub repository DSA 58010 here"
      ],
      "metadata": {
        "id": "agCnH7pzomJe"
      }
    },
    {
      "cell_type": "code",
      "execution_count": 3,
      "metadata": {
        "colab": {
          "base_uri": "https://localhost:8080/"
        },
        "id": "GgiLyEk2l55W",
        "outputId": "4f3cdbbc-b2a5-493c-c6b1-0753af388292"
      },
      "outputs": [
        {
          "output_type": "stream",
          "name": "stdout",
          "text": [
            "Adding the test scores as given below if the number is EVEN\n",
            " \n",
            "The grades are 26, 49, 98, 87, 62, 75\n",
            "The sum of all even test scores is:  186\n"
          ]
        }
      ],
      "source": [
        "S = [26, 49, 98, 87, 62, 75]\n",
        "sum = 0\n",
        "\n",
        "for i in S:\n",
        "    if i % 2 == 0:\n",
        "        sum += i\n",
        "\n",
        "print(\"Adding the test scores as given below if the number is EVEN\")\n",
        "print(\" \")\n",
        "print(\"The grades are 26, 49, 98, 87, 62, 75\")\n",
        "print(\"The sum of all even test scores is: \", sum)"
      ]
    }
  ]
}