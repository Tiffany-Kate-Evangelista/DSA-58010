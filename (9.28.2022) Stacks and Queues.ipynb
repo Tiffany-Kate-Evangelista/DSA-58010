{
  "nbformat": 4,
  "nbformat_minor": 0,
  "metadata": {
    "colab": {
      "provenance": [],
      "collapsed_sections": [],
      "authorship_tag": "ABX9TyOr6t/VrsS9mdSzqJLJOAG+",
      "include_colab_link": true
    },
    "kernelspec": {
      "name": "python3",
      "display_name": "Python 3"
    },
    "language_info": {
      "name": "python"
    }
  },
  "cells": [
    {
      "cell_type": "markdown",
      "metadata": {
        "id": "view-in-github",
        "colab_type": "text"
      },
      "source": [
        "<a href=\"https://colab.research.google.com/github/Tiffany-Kate-Evangelista/DSA-58010/blob/main/(9.28.2022)%20Stacks%20and%20Queues.ipynb\" target=\"_parent\"><img src=\"https://colab.research.google.com/assets/colab-badge.svg\" alt=\"Open In Colab\"/></a>"
      ]
    },
    {
      "cell_type": "code",
      "execution_count": 6,
      "metadata": {
        "colab": {
          "base_uri": "https://localhost:8080/"
        },
        "id": "dAy5z8TpFbV3",
        "outputId": "09027ff3-ee44-4521-c02d-8783e8763449"
      },
      "outputs": [
        {
          "output_type": "stream",
          "name": "stdout",
          "text": [
            "Thu\n",
            "Wed\n"
          ]
        }
      ],
      "source": [
        "class Stack:\n",
        "  def __init__(self):\n",
        "    self.stack = []\n",
        " \n",
        "#Use list append method to add element \n",
        "  def add(self, dataval):\n",
        "    if dataval not in self.stack:\n",
        "      self.stack.append(dataval)\n",
        "      return True\n",
        "    else:\n",
        "      return False\n",
        "\n",
        "#Use list pop method to remove element\n",
        "  def remove(self):\n",
        "    if len(self.stack) <= 0:\n",
        "      return (\"No element in the Stack\")\n",
        "    else:\n",
        "      return self.stack.pop()\n",
        "\n",
        "AStack = Stack()\n",
        "AStack.add(\"Mon\")\n",
        "AStack.add(\"Tue\")\n",
        "AStack.add(\"Wed\")\n",
        "AStack.add(\"Thu\")\n",
        "print(AStack.remove())      \n",
        "print(AStack.remove())"
      ]
    },
    {
      "cell_type": "code",
      "source": [
        "class Stack:\n",
        "  def __init__(self):\n",
        "    self.stack = []\n",
        " \n",
        "#Use list append method to add element \n",
        "  def add(self, dataval):\n",
        "    if dataval not in self.stack:\n",
        "      self.stack.append(dataval)\n",
        "      return True\n",
        "    else:\n",
        "      return False\n",
        "\n",
        "#Use list pop method to remove element\n",
        "  def remove(self):\n",
        "    if len(self.stack) <= 0:\n",
        "      return (\"No element in the Stack\")\n",
        "    else:\n",
        "      return self.stack.pop()\n",
        "\n",
        "AStack = []\n",
        "#to Append/push all the elements in the stack\n",
        "AStack.append(\"Mon\")\n",
        "AStack.append(\"Tue\")\n",
        "AStack.append(\"Wed\")\n",
        "AStack.append(\"Thu\")\n",
        "print(\"The list of elements in the stack are: \")\n",
        "print(AStack)\n",
        "#to remove each element/pop()\n",
        "AStack.pop()\n",
        "print(\"\\nAfter popping Thursday., the new elements in the stack are: \")\n",
        "print(AStack)"
      ],
      "metadata": {
        "colab": {
          "base_uri": "https://localhost:8080/"
        },
        "id": "qnfYZaHVdcZQ",
        "outputId": "9a35e670-53d7-4b7b-cc1f-a0e3649d1b57"
      },
      "execution_count": 7,
      "outputs": [
        {
          "output_type": "stream",
          "name": "stdout",
          "text": [
            "The list of elements in the stack are: \n",
            "['Mon', 'Tue', 'Wed', 'Thu']\n",
            "\n",
            "After popping Thursday., the new elements in the stack are: \n",
            "['Mon', 'Tue', 'Wed']\n"
          ]
        }
      ]
    },
    {
      "cell_type": "code",
      "source": [
        "#Python program to demo stack using Linked List\n",
        "\n",
        "class Stack:\n",
        "  def __init__(self):\n",
        "    self.stack = []\n",
        "\n",
        "class Node:\n",
        "  def __init__(self,data):\n",
        "    self.data = data\n",
        "    self.next = None   #initialize as null\n",
        "\n",
        "class LinkedList:\n",
        "  def __init__(self):\n",
        "    self.head = None  #initialize head as null\n",
        "  def printList(self):\n",
        "    temp = self.head\n",
        "    while(temp):\n",
        "      print(temp.data)\n",
        "      temp = temp.next\n",
        "  def is_empty(self):\n",
        "    if self.head == None:\n",
        "      return True\n",
        "    else:\n",
        "      return False\n",
        "  def pop(self):\n",
        "    if self.is_empty():\n",
        "      return None\n",
        "    else:\n",
        "      poppednode = fourth\n",
        "      return poppednode.data\n",
        "\n",
        "llist = LinkedList()\n",
        "llist.head = Node('Mon')\n",
        "second = Node(\"Tue\")\n",
        "third = Node('Wed')\n",
        "fourth = Node(\"Thu\")\n",
        "\n",
        "llist.head.next = second\n",
        "second.next = third\n",
        "third.next = fourth\n",
        "\n",
        "llist.printList()\n",
        "llist.pop()"
      ],
      "metadata": {
        "colab": {
          "base_uri": "https://localhost:8080/",
          "height": 109
        },
        "id": "Lf157pOIRrDm",
        "outputId": "6f00d5e3-0df5-4743-f158-5cf92041351f"
      },
      "execution_count": 8,
      "outputs": [
        {
          "output_type": "stream",
          "name": "stdout",
          "text": [
            "Mon\n",
            "Tue\n",
            "Wed\n",
            "Thu\n"
          ]
        },
        {
          "output_type": "execute_result",
          "data": {
            "text/plain": [
              "'Thu'"
            ],
            "application/vnd.google.colaboratory.intrinsic+json": {
              "type": "string"
            }
          },
          "metadata": {},
          "execution_count": 8
        }
      ]
    }
  ]
}