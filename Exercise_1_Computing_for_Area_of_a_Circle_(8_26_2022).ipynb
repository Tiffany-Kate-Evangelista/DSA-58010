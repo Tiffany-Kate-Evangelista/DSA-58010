{
  "nbformat": 4,
  "nbformat_minor": 0,
  "metadata": {
    "colab": {
      "name": "Exercise 1: Computing for Area of a Circle (8/26/2022).ipynb",
      "provenance": [],
      "authorship_tag": "ABX9TyPO9YXrvPSkdWEw5G8770PX",
      "include_colab_link": true
    },
    "kernelspec": {
      "name": "python3",
      "display_name": "Python 3"
    },
    "language_info": {
      "name": "python"
    }
  },
  "cells": [
    {
      "cell_type": "markdown",
      "metadata": {
        "id": "view-in-github",
        "colab_type": "text"
      },
      "source": [
        "<a href=\"https://colab.research.google.com/github/Tiffany-Kate-Evangelista/DSA-58010/blob/main/Exercise_1_Computing_for_Area_of_a_Circle_(8_26_2022).ipynb\" target=\"_parent\"><img src=\"https://colab.research.google.com/assets/colab-badge.svg\" alt=\"Open In Colab\"/></a>"
      ]
    },
    {
      "cell_type": "code",
      "execution_count": 1,
      "metadata": {
        "colab": {
          "base_uri": "https://localhost:8080/"
        },
        "id": "RLnAr_wYU6-q",
        "outputId": "7da5b1f3-c9b3-4623-a8c0-48f6544d4303"
      },
      "outputs": [
        {
          "output_type": "stream",
          "name": "stdout",
          "text": [
            "length: 2\n",
            "width: 4\n",
            "Area of the Rectangle is: 8\n",
            "Perimeter of the Rectangle is: 12\n"
          ]
        }
      ],
      "source": [
        "length = int(input('length: '))\n",
        "width = int(input('width: '))\n",
        "\n",
        "area = length * width\n",
        "perimeter = 2 * (length + width)\n",
        "\n",
        "print(f'Area of the Rectangle is: {area}')\n",
        "print(f'Perimeter of the Rectangle is: {perimeter}')"
      ]
    }
  ]
}